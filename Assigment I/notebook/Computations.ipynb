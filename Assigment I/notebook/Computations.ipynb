{
 "cells": [
  {
   "cell_type": "code",
   "execution_count": 1,
   "metadata": {},
   "outputs": [],
   "source": [
    "from ipywidgets import HTML\n",
    "\n",
    "import numpy\n",
    "import pygal\n",
    "import math"
   ]
  },
  {
   "cell_type": "code",
   "execution_count": 2,
   "metadata": {},
   "outputs": [],
   "source": [
    "def y_sol(x, x_0, y_0):\n",
    "    c = (y_0 - x_0/2) / (x_0*math.exp(2*x_0))\n",
    "    return x/2 + c*x*math.exp(2*x) \n",
    "    \n",
    "def func(x, y):\n",
    "    return -x + (y*(2*x+1)) / x\n",
    "\n",
    "\n",
    "N = 1000\n",
    "y_0 = 3\n",
    "x_0 = 1\n",
    "x_end = 18.2"
   ]
  },
  {
   "cell_type": "markdown",
   "metadata": {},
   "source": [
    "## Analytical Solution"
   ]
  },
  {
   "cell_type": "code",
   "execution_count": 3,
   "metadata": {},
   "outputs": [],
   "source": [
    "def calc_analytical(f, x_0, y_0, x_end, N):\n",
    "    h = (x_end - x_0) / N\n",
    "    xs = [x_0,]\n",
    "    \n",
    "    while xs[-1] < x_end: xs.append(xs[-1] + h)\n",
    "    \n",
    "    return (xs, [f(x, x_0, y_0) for x in xs])"
   ]
  },
  {
   "cell_type": "markdown",
   "metadata": {},
   "source": [
    "## Euler`s Method"
   ]
  },
  {
   "cell_type": "code",
   "execution_count": 4,
   "metadata": {},
   "outputs": [],
   "source": [
    "def calc_euler(f, x_0, y_0, x_end, N):\n",
    "    h = (x_end - x_0) / N\n",
    "    xs_e = [x_0,]\n",
    "    ys_e = [y_0,]\n",
    "\n",
    "    while xs_e[-1] < x_end:\n",
    "        ys_e.append(ys_e[-1] + h * f(xs_e[-1], ys_e[-1]))\n",
    "        xs_e.append(xs_e[-1] + h)\n",
    "        \n",
    "    return (xs_e, ys_e)"
   ]
  },
  {
   "cell_type": "markdown",
   "metadata": {},
   "source": [
    "## Imrpoved Euler`s Method"
   ]
  },
  {
   "cell_type": "code",
   "execution_count": 5,
   "metadata": {},
   "outputs": [],
   "source": [
    "def calc_improved_euler(f, x_0, y_0, x_end, N):\n",
    "    h = (x_end - x_0) / N\n",
    "    xs_ie = [x_0,]\n",
    "    ys_ie = [y_0,]\n",
    "\n",
    "    while xs_ie[-1] < x_end:\n",
    "        ys_ie.append(ys_ie[-1] + h * f(xs_ie[-1] + h/2, ys_ie[-1] + (h/2)*f(xs_ie[-1], ys_ie[-1])))\n",
    "        xs_ie.append(xs_ie[-1] + h)\n",
    "        \n",
    "    return (xs_ie, ys_ie)"
   ]
  },
  {
   "cell_type": "markdown",
   "metadata": {},
   "source": [
    "## Runge–Kutta Method"
   ]
  },
  {
   "cell_type": "code",
   "execution_count": 6,
   "metadata": {},
   "outputs": [],
   "source": [
    "def calc_runge_kutta(f, x_0, y_0, x_end, N):\n",
    "    h = (x_end - x_0) / N\n",
    "\n",
    "    xs_rk = [x_0,]\n",
    "    ys_rk = [y_0,]\n",
    "\n",
    "    while xs_rk[-1] < x_end:\n",
    "        k1 = f(xs_rk[-1], xs_rk[-1])\n",
    "        k2 = f(xs_rk[-1] + h/2, ys_rk[-1] + h*k1/2)\n",
    "        k3 = f(xs_rk[-1] + h/2, ys_rk[-1] + h*k2/2)\n",
    "        k4 = f(xs_rk[-1] + h, ys_rk[-1] + h*k3)\n",
    "        ys_rk.append(ys_rk[-1] + (h/6)*(k1+2*k2+2*k3+k4))\n",
    "        xs_rk.append(xs_rk[-1] + h)\n",
    "        \n",
    "    return (xs_rk, ys_rk)"
   ]
  },
  {
   "cell_type": "code",
   "execution_count": 7,
   "metadata": {},
   "outputs": [],
   "source": [
    "max_error_e = []\n",
    "max_error_ie = []\n",
    "max_error_rk = []\n",
    "\n",
    "for curr_n in range(100, N+1):\n",
    "    ys = calc_analytical(y_sol, x_0, y_0, x_end, curr_n)[1]\n",
    "    ys_e = calc_euler(func, x_0, y_0, x_end, curr_n)[1]\n",
    "    ys_ie = calc_improved_euler(func, x_0, y_0, x_end, curr_n)[1]\n",
    "    ys_rk = calc_runge_kutta(func, x_0, y_0, x_end, curr_n)[1]\n",
    "    \n",
    "    max_error_e.append((curr_n, max(map(lambda y_origin, y_calc: abs(y_origin-y_calc), ys, ys_e))))\n",
    "    max_error_ie.append((curr_n, max(map(lambda y_origin, y_calc: abs(y_origin-y_calc), ys, ys_ie))))\n",
    "    max_error_rk.append((curr_n, max(map(lambda y_origin, y_calc: abs(y_origin-y_calc), ys, ys_rk))))"
   ]
  },
  {
   "cell_type": "markdown",
   "metadata": {},
   "source": [
    "## Solutions Graphs"
   ]
  },
  {
   "cell_type": "code",
   "execution_count": 8,
   "metadata": {},
   "outputs": [
    {
     "data": {
      "application/vnd.jupyter.widget-view+json": {
       "model_id": "f57fa560be914e3794ecb3432bb73978",
       "version_major": 2,
       "version_minor": 0
      },
      "text/plain": [
       "HTML(value='<embed src=data:image/svg+xml;charset=utf-8;base64,PD94bWwgdmVyc2lvbj0nMS4wJyBlbmNvZGluZz0ndXRmLTg…"
      ]
     },
     "metadata": {},
     "output_type": "display_data"
    }
   ],
   "source": [
    "xy_chart = pygal.XY()\n",
    "xy_chart.title = 'Solutions Graphs'\n",
    "xy_chart.x_title = \"X\"\n",
    "xy_chart.y_title = \"Y\"\n",
    "xy_chart.add('Euler`s Method', [(x, y) for x, y in zip(*calc_euler(func, x_0, y_0, x_end, N))])\n",
    "xy_chart.add('Improved Euler`s Method', [(x, y) for x, y in zip(*calc_improved_euler(func, x_0, y_0, x_end, N))])\n",
    "xy_chart.add('Runge-Kutta Method', [(x, y) for x, y in zip(*calc_runge_kutta(func, x_0, y_0, x_end, N))])\n",
    "xy_chart.add('Analytical', [(x, y) for x, y in zip(*calc_analytical(y_sol, x_0, y_0, x_end, N))])\n",
    "\n",
    "HTML('<embed src={}></embed>'.format(xy_chart.render_data_uri()))"
   ]
  },
  {
   "cell_type": "markdown",
   "metadata": {},
   "source": [
    "## Errors Grpahs"
   ]
  },
  {
   "cell_type": "code",
   "execution_count": 9,
   "metadata": {},
   "outputs": [
    {
     "data": {
      "application/vnd.jupyter.widget-view+json": {
       "model_id": "4f474315803a4555b5c68e63dde6f328",
       "version_major": 2,
       "version_minor": 0
      },
      "text/plain": [
       "HTML(value='<embed src=data:image/svg+xml;charset=utf-8;base64,PD94bWwgdmVyc2lvbj0nMS4wJyBlbmNvZGluZz0ndXRmLTg…"
      ]
     },
     "metadata": {},
     "output_type": "display_data"
    }
   ],
   "source": [
    "xy_chart = pygal.XY()\n",
    "xy_chart.title = 'Error Comparison'\n",
    "xy_chart.x_title = 'N'\n",
    "xy_chart.y_title = 'Max Error'\n",
    "\n",
    "xy_chart.add('Euler`s Method', [(N, max_error) for N, max_error in max_error_e], show_dots=False)\n",
    "xy_chart.add('Imrpoved Euler`s Method', [(N, max_error) for N, max_error in max_error_ie], show_dots=False)\n",
    "xy_chart.add('Runge-Kutta Method', [(N, max_error) for N, max_error in max_error_rk], show_dots=False)\n",
    "\n",
    "HTML('<embed src={}></embed>'.format(xy_chart.render_data_uri()))"
   ]
  }
 ],
 "metadata": {
  "kernelspec": {
   "display_name": "Python 3",
   "language": "python",
   "name": "python3"
  },
  "language_info": {
   "codemirror_mode": {
    "name": "ipython",
    "version": 3
   },
   "file_extension": ".py",
   "mimetype": "text/x-python",
   "name": "python",
   "nbconvert_exporter": "python",
   "pygments_lexer": "ipython3",
   "version": "3.6.5"
  }
 },
 "nbformat": 4,
 "nbformat_minor": 1
}
